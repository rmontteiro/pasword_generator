{
  "nbformat": 4,
  "nbformat_minor": 0,
  "metadata": {
    "colab": {
      "name": "Password_generator.ipynb",
      "provenance": [],
      "collapsed_sections": [],
      "authorship_tag": "ABX9TyMCALKhoojfxNW2dy6ekwcG",
      "include_colab_link": true
    },
    "kernelspec": {
      "name": "python3",
      "display_name": "Python 3"
    },
    "language_info": {
      "name": "python"
    }
  },
  "cells": [
    {
      "cell_type": "markdown",
      "metadata": {
        "id": "view-in-github",
        "colab_type": "text"
      },
      "source": [
        "<a href=\"https://colab.research.google.com/github/rmontteiro/pasword_generator/blob/main/Password_generator.ipynb\" target=\"_parent\"><img src=\"https://colab.research.google.com/assets/colab-badge.svg\" alt=\"Open In Colab\"/></a>"
      ]
    },
    {
      "cell_type": "code",
      "metadata": {
        "id": "9zYEX86YjEQT"
      },
      "source": [
        "# TODO: First import the `random` module\n",
        "import random\n",
        "from random import seed\n",
        "from random import randint\n",
        "import string\n"
      ],
      "execution_count": 1,
      "outputs": []
    },
    {
      "cell_type": "code",
      "metadata": {
        "id": "iRX7ktVQjH1G"
      },
      "source": [
        "# We begin with an empty `word_list`\n",
        "word_file = \"/content/palavras.txt\"\n",
        "word_list = []\n",
        "\n"
      ],
      "execution_count": 2,
      "outputs": []
    },
    {
      "cell_type": "code",
      "metadata": {
        "id": "7h1r-EjNjJr7"
      },
      "source": [
        "# We fill up the word_list from the `words.txt` file\n",
        "with open(word_file,'r') as words:\n",
        "\tfor line in words:\n",
        "\t\t# remove white space and make everything lowercase\n",
        "\t\tword = line.strip().lower()\n",
        "\t\t# don't include words that are too long or too short\n",
        "\t\tif 5 < len(word) < 8:\n",
        "\t\t\tword_list.append(word)\n",
        "\n"
      ],
      "execution_count": 5,
      "outputs": []
    },
    {
      "cell_type": "code",
      "metadata": {
        "colab": {
          "base_uri": "https://localhost:8080/"
        },
        "id": "qIBogKcvjMUq",
        "outputId": "14d1e2dc-d4dd-4c51-dc76-db603adacdc3"
      },
      "source": [
        "# TODO: Add your function generate_password below\n",
        "def generate_password():\n",
        "    return random.choice(word_list[random.randint(0,len(word_list))]) + random.choice(word_list[random.randint(0,len(word_list))]) + random.choice(word_list[random.randint(0,len(word_list))]) + random.choice(word_list[random.randint(0,len(word_list))]) + str(random.randint(0,9)) + random.choice(string.digits) \n",
        "print(generate_password())"
      ],
      "execution_count": 55,
      "outputs": [
        {
          "output_type": "stream",
          "text": [
            "fáií49\n"
          ],
          "name": "stdout"
        }
      ]
    }
  ]
}